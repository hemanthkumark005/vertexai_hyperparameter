{
 "cells": [
  {
   "cell_type": "code",
   "execution_count": null,
   "id": "4751b661-d6d0-4c9c-b585-58ce3968111a",
   "metadata": {},
   "outputs": [],
   "source": [
    "!pip3 install google-cloud-aiplatform --upgrade --user"
   ]
  },
  {
   "cell_type": "code",
   "execution_count": null,
   "id": "77cd1c3a-6d33-4e69-836c-8c6b9adb6ad5",
   "metadata": {},
   "outputs": [],
   "source": [
    "from google.cloud import aiplatform\n",
    "from google.cloud.aiplatform import hyperparameter_tuning as hpt"
   ]
  },
  {
   "cell_type": "code",
   "execution_count": null,
   "id": "4ed9516f-21d4-4aef-9cb5-25f599f5b3a9",
   "metadata": {},
   "outputs": [],
   "source": [
    "worker_pool_specs = [{\n",
    "    \"machine_spec\": {\n",
    "        \"machine_type\": \"n1-standard-4\",\n",
    "        \"accelerator_type\": \"NVIDIA_TESLA_T4\",\n",
    "        \"accelerator_count\": 1\n",
    "    },\n",
    "    \"replica_count\": 1,\n",
    "    \"container_spec\": {\n",
    "        \"image_uri\": \"gcr.io/vertex-ai-123/rps:v1\"\n",
    "    }\n",
    "}]\n",
    "\n",
    "\n",
    "#Optimizational goal of the metric in dict format\n",
    "metric_spec={'accuracy':'maximize'}\n",
    "\n",
    "# Hyperparameters which needs to be optimized\n",
    "\n",
    "parameter_spec = {\n",
    "    \"learning_rate\": hpt.DoubleParameterSpec(min=0.001, max=1, scale=\"log\"),\n",
    "    \"momentum\": hpt.DoubleParameterSpec(min=0, max=1, scale=\"linear\"),\n",
    "    \"num_neurons\": hpt.DiscreteParameterSpec(values=[16, 32, 64], scale=None)\n",
    "}\n"
   ]
  },
  {
   "cell_type": "code",
   "execution_count": null,
   "id": "dfa4889f-487d-4d2a-ab17-28cfd23866ae",
   "metadata": {},
   "outputs": [],
   "source": [
    "my_custom_job = aiplatform.CustomJob(display_name='rps_classification-sdk-job',\n",
    "                              worker_pool_specs=worker_pool_specs,\n",
    "                              staging_bucket='gs://vertex-ai-custom')\n",
    "#To run the custom jobs\n",
    "#my_custom_job.run()"
   ]
  },
  {
   "cell_type": "code",
   "execution_count": null,
   "id": "f2c26937-3c6c-47bb-afff-9ce15025cb58",
   "metadata": {},
   "outputs": [],
   "source": [
    "hp_job = aiplatform.HyperparameterTuningJob(\n",
    "    display_name='rps_classification-sdk-job',\n",
    "    custom_job=my_custom_job,\n",
    "    metric_spec=metric_spec,\n",
    "    parameter_spec=parameter_spec,\n",
    "    max_trial_count=15,\n",
    "    parallel_trial_count=3)\n",
    "#To initiate the hyperparameyter tuning job\n",
    "hp_job.run()"
   ]
  }
 ],
 "metadata": {
  "environment": {
   "kernel": "python3",
   "name": "tf2-gpu.2-7.m87",
   "type": "gcloud",
   "uri": "gcr.io/deeplearning-platform-release/tf2-gpu.2-7:m87"
  },
  "kernelspec": {
   "display_name": "Python 3",
   "language": "python",
   "name": "python3"
  },
  "language_info": {
   "codemirror_mode": {
    "name": "ipython",
    "version": 3
   },
   "file_extension": ".py",
   "mimetype": "text/x-python",
   "name": "python",
   "nbconvert_exporter": "python",
   "pygments_lexer": "ipython3",
   "version": "3.7.12"
  }
 },
 "nbformat": 4,
 "nbformat_minor": 5
}
